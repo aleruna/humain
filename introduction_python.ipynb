{
 "cells": [
  {
   "cell_type": "markdown",
   "metadata": {},
   "source": [
    "### PALINDROME"
   ]
  },
  {
   "cell_type": "code",
   "execution_count": 2,
   "metadata": {},
   "outputs": [],
   "source": [
    "text_1 = \"ana\"\n",
    "text_2 = \"barrilete cosmico\"\n",
    "text_3 = \"yo hago yoga hoy\"\n",
    "text_4 = \"arriba la birra\"\n",
    "text_5 = \"arriba la barra\""
   ]
  },
  {
   "cell_type": "code",
   "execution_count": 3,
   "metadata": {},
   "outputs": [],
   "source": [
    "## option 1\n",
    "def palindrome(text_i):\n",
    "    text = text_i.replace(\" \",\"\")\n",
    "    return \"it is a palindrome\" if text == text[::-1] else \"it is not a palindrome\"\n",
    "\n",
    "## option 2\n",
    "## no termine de entender como funciona reversed!!!\n",
    "def palidrome_2(texto):\n",
    "    texto = texto.replace(\" \",\"\")\n",
    "    return texto == \"\".join(reversed(texto))"
   ]
  },
  {
   "cell_type": "code",
   "execution_count": 140,
   "metadata": {},
   "outputs": [
    {
     "name": "stdout",
     "output_type": "stream",
     "text": [
      "<reversed object at 0x000002D6DD445F30>\n"
     ]
    },
    {
     "data": {
      "text/plain": [
       "<reversed at 0x2d6dd445f30>"
      ]
     },
     "execution_count": 140,
     "metadata": {},
     "output_type": "execute_result"
    }
   ],
   "source": [
    "prueba = reversed(text_3)\n",
    "\n",
    "print(prueba)\n",
    "#prueba = \"\".join(prueba)\n",
    "\n",
    "prueba"
   ]
  },
  {
   "cell_type": "markdown",
   "metadata": {},
   "source": [
    "### Fibonacci (Recursion)\n",
    "\n",
    "- $F_0 = 0$\n",
    "- $F_1 = 1$\n",
    "- $F_n = F_{n-1} + F_{n-2}$ para $n>1$\n"
   ]
  },
  {
   "cell_type": "code",
   "execution_count": 20,
   "metadata": {},
   "outputs": [],
   "source": [
    "def fibonnacci(n):\n",
    "    if n == 0: ## case\n",
    "        return 0 \n",
    "    if n == 1:\n",
    "        return 1 ## casos de corte, without this we hace a recursion error\n",
    "    else:\n",
    "        return fibonnacci(n-1) + fibonnacci(n-2)\n"
   ]
  },
  {
   "cell_type": "code",
   "execution_count": 24,
   "metadata": {},
   "outputs": [
    {
     "name": "stdout",
     "output_type": "stream",
     "text": [
      "12.9 µs ± 45 ns per loop (mean ± std. dev. of 7 runs, 100,000 loops each)\n"
     ]
    }
   ],
   "source": [
    "[fibonnacci(i) for i in range(10)]\n",
    "\n",
    "%timeit [fibonnacci(i) for i in range(10)] "
   ]
  },
  {
   "cell_type": "code",
   "execution_count": null,
   "metadata": {},
   "outputs": [],
   "source": [
    "### without recursion\n",
    "def fibo(n):\n",
    "    a, b = 0, 1\n",
    "    secuencia = [a, b]\n",
    "    \n",
    "    if n == 0:\n",
    "        return a\n",
    "    elif n == 1:\n",
    "        return b\n",
    "    \n",
    "    n_actual = 2 # número de iteración\n",
    "    while n_actual < n:\n",
    "        n_actual += 1 # sumo 1 a la iteración actual\n",
    "        #a, b = b, a + b # Este truquito es importante! \n",
    "        c = a\n",
    "        a = b\n",
    "        #b = a + b # ya actualizo el nuevo \"a\"\n",
    "        b = c + a\n",
    "        print(b)\n",
    "        secuencia.append(b) # guardo el nuevo b\n",
    "        print(f'esta es la secuencia{secuencia}')\n",
    "    return secuencia"
   ]
  },
  {
   "cell_type": "markdown",
   "metadata": {},
   "source": [
    "### Sort list"
   ]
  },
  {
   "cell_type": "code",
   "execution_count": 48,
   "metadata": {},
   "outputs": [],
   "source": [
    "def selection_sort(lista):\n",
    "    # Inicializamos una lista_ordenada donde iremos poniendo los elementos ordenados\n",
    "    n = len(lista)\n",
    "    lista_ordenada = []\n",
    "    \n",
    "    while len(lista_ordenada) < n:\n",
    "        \n",
    "        # Necesitamos un valor para comenzar a comparar\n",
    "        # COMPLETAR\n",
    "        minimo = lista[0]\n",
    "        indice_minimo = 0\n",
    "        \n",
    "        # Empezamos a recorrer la lista\n",
    "        for (i,elemento) in enumerate(lista):\n",
    "            if elemento < minimo:\n",
    "               minimo = elemento\n",
    "               indice_minimo = i\n",
    "            \n",
    "               \n",
    "        lista_ordenada.append(minimo)\n",
    "        lista.pop(indice_minimo)\n",
    "        \n",
    "    \n",
    "    return lista_ordenada"
   ]
  },
  {
   "cell_type": "code",
   "execution_count": null,
   "metadata": {},
   "outputs": [],
   "source": [
    "# no entiendo porque se modifica la lista_1 si vive dentro de la funcion\n",
    "\n",
    "lista_ordenada = []\n",
    "lista_1 = [1,3,5,1,32,9,0,-1]\n",
    "minimo = lista_1[0]\n",
    "indice = 0\n",
    "\n",
    "for (i,elemento) in enumerate(lista_1):\n",
    "            if elemento < minimo:\n",
    "               #minimo = elemento\n",
    "               #indice_minimo = i\n",
    "               print(elemento,i)\n",
    "\n",
    "#lista_ordenada.append(minimo)\n",
    "print(lista_ordenada)\n",
    "\n"
   ]
  },
  {
   "cell_type": "markdown",
   "metadata": {},
   "source": [
    "# 1.1) Algoritmo para transformar valores de temperatura\n",
    "\n",
    "- De grados Celsius a Fahrenheit.\n",
    "\\begin{equation}\n",
    "°F = °C \\times \\frac{9}{5} + 32\n",
    "\\end{equation}\n",
    "- De grados Fahrenheit a Celsius.\n",
    "\\begin{equation}\n",
    "°C = (°F -32) \\times \\frac{5}{9}\n",
    "\\end{equation}"
   ]
  },
  {
   "cell_type": "code",
   "execution_count": 79,
   "metadata": {},
   "outputs": [],
   "source": [
    "def c_f(grados):\n",
    "    #capturo el error de tipo de datos\n",
    "    try type(grados) == int\n",
    "        tipo = input(\"los datos estan en grados celcius (C) o Fahrenheit (F): \")   \n",
    "        if tipo == \"F\":\n",
    "            resultado = round((int(grados) -32)*(5/9),2)\n",
    "        elif tipo == \"C\":\n",
    "            resultado = round((int(grados)*9/5) + 32,2)\n",
    "        else:\n",
    "            return \"no a seleccionado la escala de los datos\"\n",
    "\n",
    "    except TypeError:\n",
    "        print(\"escriba un numero por favor\")\n",
    "    \n",
    "    return resultado\n",
    "    "
   ]
  },
  {
   "cell_type": "code",
   "execution_count": 7,
   "metadata": {},
   "outputs": [
    {
     "name": "stdout",
     "output_type": "stream",
     "text": [
      "f\n"
     ]
    }
   ],
   "source": [
    "try:\n",
    "    escala = str(input(\"ingrese a que escala quiere transformar\" + \n",
    "                   \"Farenheit(F) o Celcius(C)\")).lower()\n",
    "    \n",
    "    grados = input(\"ingrese la temperatura: \")\n",
    "\n",
    "except ValueError:\n",
    "    print('revise si esta ingresando valores numericos')"
   ]
  },
  {
   "cell_type": "markdown",
   "metadata": {},
   "source": [
    "## 1.2) Count vowels *\n",
    "Ayuda:\n",
    "- Es recomendable usar la funcion **lower()** para obtener el string en minusculas."
   ]
  },
  {
   "cell_type": "code",
   "execution_count": 88,
   "metadata": {},
   "outputs": [],
   "source": [
    "def count_vowels(text):\n",
    "    text= text.lower()\n",
    "    return len([x for x in text if x in \"aiou\"])"
   ]
  },
  {
   "cell_type": "markdown",
   "metadata": {},
   "source": [
    "## 1.3) Isogram *\n",
    "An isogram is a word that has no repeated letters.\n",
    "- Create a function if the word entered as a parameter is an isogram."
   ]
  },
  {
   "cell_type": "code",
   "execution_count": 115,
   "metadata": {},
   "outputs": [],
   "source": [
    "def isogram(text):\n",
    "    for i in range(len(text)):\n",
    "        letter = text[i]\n",
    "        word = text[i+1::]\n",
    "        if letter in word:\n",
    "           return \"not an isogram\"\n",
    "        else:\n",
    "            continue\n",
    "    return \"is an isogram\"                 \n",
    "\n",
    "#chat gpt propone usar set"
   ]
  },
  {
   "cell_type": "markdown",
   "metadata": {},
   "source": [
    "## 3.1) Simple Search Algorithm\n",
    "Create a function that receives a list of numbers and the number you are looking for.\n",
    "\n",
    "It must go through the list until:\n",
    "- Find the desired number and return its position.\n",
    "- Reach the end of the list and return -1 (the value is not in the list).\n",
    "---\n",
    "Help:\n",
    "* You can use the function [enumerate](https://docs.python.org/3/library/functions.html?highlight=enumerate#enumerate) to get the index and the value in the for statement.\n",
    "\n",
    "Translated with DeepL.com (free version)"
   ]
  },
  {
   "cell_type": "code",
   "execution_count": 138,
   "metadata": {},
   "outputs": [],
   "source": [
    "def research_simple(list,n):\n",
    "    n = int(n)\n",
    "    for (i,item) in enumerate(list):\n",
    "        if n == item:\n",
    "           return f'the number: {item} is in position {i}'\n",
    "    \n",
    "    return \"the value is not in the list\""
   ]
  },
  {
   "cell_type": "code",
   "execution_count": 139,
   "metadata": {},
   "outputs": [
    {
     "data": {
      "text/plain": [
       "'the number: 3 is in position 2'"
      ]
     },
     "execution_count": 139,
     "metadata": {},
     "output_type": "execute_result"
    }
   ],
   "source": [
    "prueba = [1, 5, 3, 2, 7]\n",
    "\n",
    "research_simple(prueba,3)"
   ]
  },
  {
   "cell_type": "markdown",
   "metadata": {},
   "source": [
    "#### Try/Except Errors"
   ]
  },
  {
   "cell_type": "code",
   "execution_count": 6,
   "metadata": {},
   "outputs": [
    {
     "name": "stdout",
     "output_type": "stream",
     "text": [
      "you can not divide a value with zero\n"
     ]
    }
   ],
   "source": [
    "try:\n",
    "    numero = float(input(\"Ingrese el numero a dividir: \"))\n",
    "    divisor = float(input(\"Ingrese el divisor: \"))\n",
    "    print(numero / divisor)\n",
    "except ZeroDivisionError:\n",
    "    print(\"you can not divide a value with zero\")\n",
    "except ValueError:\n",
    "    print(\"please use a number\")\n",
    "\n"
   ]
  }
 ],
 "metadata": {
  "kernelspec": {
   "display_name": "base",
   "language": "python",
   "name": "python3"
  },
  "language_info": {
   "codemirror_mode": {
    "name": "ipython",
    "version": 3
   },
   "file_extension": ".py",
   "mimetype": "text/x-python",
   "name": "python",
   "nbconvert_exporter": "python",
   "pygments_lexer": "ipython3",
   "version": "3.11.4"
  }
 },
 "nbformat": 4,
 "nbformat_minor": 2
}
