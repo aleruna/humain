{
 "cells": [
  {
   "cell_type": "markdown",
   "metadata": {},
   "source": [
    "### PALINDROME"
   ]
  },
  {
   "cell_type": "code",
   "execution_count": 12,
   "metadata": {},
   "outputs": [],
   "source": [
    "text_1 = \"ana\"\n",
    "text_2 = \"barrilete cosmico\"\n",
    "text_3 = \"yo hago yoga hoy\"\n",
    "text_4 = \"arriba la birra\"\n",
    "text_5 = \"arriba la barra\""
   ]
  },
  {
   "cell_type": "code",
   "execution_count": 13,
   "metadata": {},
   "outputs": [],
   "source": [
    "## option 1\n",
    "def palindrome(text_i):\n",
    "    text = text_i.replace(\" \",\"\")\n",
    "    return \"it is a palindrome\" if text == text[::-1] else \"it is not a palindrome\"\n",
    "\n",
    "## option 2\n",
    "## no termine de entender como funciona reversed!!!\n",
    "def palidrome_2(texto):\n",
    "    texto = texto.replace(\" \",\"\")\n",
    "    return texto == \"\".join(reversed(texto))"
   ]
  },
  {
   "cell_type": "code",
   "execution_count": 14,
   "metadata": {},
   "outputs": [
    {
     "name": "stdout",
     "output_type": "stream",
     "text": [
      "<reversed object at 0x000001E16381F220>\n"
     ]
    },
    {
     "data": {
      "text/plain": [
       "<reversed at 0x1e16381f220>"
      ]
     },
     "execution_count": 14,
     "metadata": {},
     "output_type": "execute_result"
    }
   ],
   "source": [
    "prueba = reversed(text_3)\n",
    "\n",
    "print(prueba)\n",
    "#prueba = \"\".join(prueba)\n",
    "\n",
    "prueba"
   ]
  },
  {
   "cell_type": "markdown",
   "metadata": {},
   "source": [
    "### Fibonacci (Recursion)\n",
    "\n",
    "- $F_0 = 0$\n",
    "- $F_1 = 1$\n",
    "- $F_n = F_{n-1} + F_{n-2}$ para $n>1$\n"
   ]
  },
  {
   "cell_type": "code",
   "execution_count": 15,
   "metadata": {},
   "outputs": [],
   "source": [
    "def fibonnacci(n):\n",
    "    if n == 0: ## case\n",
    "        return 0 \n",
    "    if n == 1:\n",
    "        return 1 ## casos de corte, without this we hace a recursion error\n",
    "    else:\n",
    "        return fibonnacci(n-1) + fibonnacci(n-2)\n"
   ]
  },
  {
   "cell_type": "code",
   "execution_count": 16,
   "metadata": {},
   "outputs": [
    {
     "ename": "KeyboardInterrupt",
     "evalue": "",
     "output_type": "error",
     "traceback": [
      "\u001b[1;31m---------------------------------------------------------------------------\u001b[0m",
      "\u001b[1;31mKeyboardInterrupt\u001b[0m                         Traceback (most recent call last)",
      "Cell \u001b[1;32mIn[16], line 3\u001b[0m\n\u001b[0;32m      1\u001b[0m [fibonnacci(i) \u001b[38;5;28;01mfor\u001b[39;00m i \u001b[38;5;129;01min\u001b[39;00m \u001b[38;5;28mrange\u001b[39m(\u001b[38;5;241m10\u001b[39m)]\n\u001b[1;32m----> 3\u001b[0m get_ipython()\u001b[38;5;241m.\u001b[39mrun_line_magic(\u001b[38;5;124m'\u001b[39m\u001b[38;5;124mtimeit\u001b[39m\u001b[38;5;124m'\u001b[39m, \u001b[38;5;124m'\u001b[39m\u001b[38;5;124m[fibonnacci(i) for i in range(10)]\u001b[39m\u001b[38;5;124m'\u001b[39m)\n",
      "File \u001b[1;32mc:\\Users\\aleja\\anaconda3\\Lib\\site-packages\\IPython\\core\\interactiveshell.py:2432\u001b[0m, in \u001b[0;36mInteractiveShell.run_line_magic\u001b[1;34m(self, magic_name, line, _stack_depth)\u001b[0m\n\u001b[0;32m   2430\u001b[0m     kwargs[\u001b[38;5;124m'\u001b[39m\u001b[38;5;124mlocal_ns\u001b[39m\u001b[38;5;124m'\u001b[39m] \u001b[38;5;241m=\u001b[39m \u001b[38;5;28mself\u001b[39m\u001b[38;5;241m.\u001b[39mget_local_scope(stack_depth)\n\u001b[0;32m   2431\u001b[0m \u001b[38;5;28;01mwith\u001b[39;00m \u001b[38;5;28mself\u001b[39m\u001b[38;5;241m.\u001b[39mbuiltin_trap:\n\u001b[1;32m-> 2432\u001b[0m     result \u001b[38;5;241m=\u001b[39m fn(\u001b[38;5;241m*\u001b[39margs, \u001b[38;5;241m*\u001b[39m\u001b[38;5;241m*\u001b[39mkwargs)\n\u001b[0;32m   2434\u001b[0m \u001b[38;5;66;03m# The code below prevents the output from being displayed\u001b[39;00m\n\u001b[0;32m   2435\u001b[0m \u001b[38;5;66;03m# when using magics with decorator @output_can_be_silenced\u001b[39;00m\n\u001b[0;32m   2436\u001b[0m \u001b[38;5;66;03m# when the last Python token in the expression is a ';'.\u001b[39;00m\n\u001b[0;32m   2437\u001b[0m \u001b[38;5;28;01mif\u001b[39;00m \u001b[38;5;28mgetattr\u001b[39m(fn, magic\u001b[38;5;241m.\u001b[39mMAGIC_OUTPUT_CAN_BE_SILENCED, \u001b[38;5;28;01mFalse\u001b[39;00m):\n",
      "File \u001b[1;32mc:\\Users\\aleja\\anaconda3\\Lib\\site-packages\\IPython\\core\\magics\\execution.py:1185\u001b[0m, in \u001b[0;36mExecutionMagics.timeit\u001b[1;34m(self, line, cell, local_ns)\u001b[0m\n\u001b[0;32m   1183\u001b[0m \u001b[38;5;28;01mfor\u001b[39;00m index \u001b[38;5;129;01min\u001b[39;00m \u001b[38;5;28mrange\u001b[39m(\u001b[38;5;241m0\u001b[39m, \u001b[38;5;241m10\u001b[39m):\n\u001b[0;32m   1184\u001b[0m     number \u001b[38;5;241m=\u001b[39m \u001b[38;5;241m10\u001b[39m \u001b[38;5;241m*\u001b[39m\u001b[38;5;241m*\u001b[39m index\n\u001b[1;32m-> 1185\u001b[0m     time_number \u001b[38;5;241m=\u001b[39m timer\u001b[38;5;241m.\u001b[39mtimeit(number)\n\u001b[0;32m   1186\u001b[0m     \u001b[38;5;28;01mif\u001b[39;00m time_number \u001b[38;5;241m>\u001b[39m\u001b[38;5;241m=\u001b[39m \u001b[38;5;241m0.2\u001b[39m:\n\u001b[0;32m   1187\u001b[0m         \u001b[38;5;28;01mbreak\u001b[39;00m\n",
      "File \u001b[1;32mc:\\Users\\aleja\\anaconda3\\Lib\\site-packages\\IPython\\core\\magics\\execution.py:173\u001b[0m, in \u001b[0;36mTimer.timeit\u001b[1;34m(self, number)\u001b[0m\n\u001b[0;32m    171\u001b[0m gc\u001b[38;5;241m.\u001b[39mdisable()\n\u001b[0;32m    172\u001b[0m \u001b[38;5;28;01mtry\u001b[39;00m:\n\u001b[1;32m--> 173\u001b[0m     timing \u001b[38;5;241m=\u001b[39m \u001b[38;5;28mself\u001b[39m\u001b[38;5;241m.\u001b[39minner(it, \u001b[38;5;28mself\u001b[39m\u001b[38;5;241m.\u001b[39mtimer)\n\u001b[0;32m    174\u001b[0m \u001b[38;5;28;01mfinally\u001b[39;00m:\n\u001b[0;32m    175\u001b[0m     \u001b[38;5;28;01mif\u001b[39;00m gcold:\n",
      "File \u001b[1;32m<magic-timeit>:1\u001b[0m, in \u001b[0;36minner\u001b[1;34m(_it, _timer)\u001b[0m\n",
      "\u001b[1;31mKeyboardInterrupt\u001b[0m: "
     ]
    }
   ],
   "source": [
    "[fibonnacci(i) for i in range(10)]\n",
    "\n",
    "%timeit [fibonnacci(i) for i in range(10)] "
   ]
  },
  {
   "cell_type": "code",
   "execution_count": null,
   "metadata": {},
   "outputs": [],
   "source": [
    "### without recursion\n",
    "def fibo(n):\n",
    "    a, b = 0, 1\n",
    "    secuencia = [a, b]\n",
    "    \n",
    "    if n == 0:\n",
    "        return a\n",
    "    elif n == 1:\n",
    "        return b\n",
    "    \n",
    "    n_actual = 2 # número de iteración\n",
    "    while n_actual < n:\n",
    "        n_actual += 1 # sumo 1 a la iteración actual\n",
    "        #a, b = b, a + b # Este truquito es importante! \n",
    "        c = a\n",
    "        a = b\n",
    "        #b = a + b # ya actualizo el nuevo \"a\"\n",
    "        b = c + a\n",
    "        print(b)\n",
    "        secuencia.append(b) # guardo el nuevo b\n",
    "        print(f'esta es la secuencia{secuencia}')\n",
    "    return secuencia"
   ]
  },
  {
   "cell_type": "markdown",
   "metadata": {},
   "source": [
    "### Sort list"
   ]
  },
  {
   "cell_type": "code",
   "execution_count": null,
   "metadata": {},
   "outputs": [],
   "source": [
    "def selection_sort(lista):\n",
    "    # Inicializamos una lista_ordenada donde iremos poniendo los elementos ordenados\n",
    "    n = len(lista)\n",
    "    lista_ordenada = []\n",
    "    \n",
    "    while len(lista_ordenada) < n:\n",
    "        \n",
    "        # Necesitamos un valor para comenzar a comparar\n",
    "        # COMPLETAR\n",
    "        minimo = lista[0]\n",
    "        indice_minimo = 0\n",
    "        \n",
    "        # Empezamos a recorrer la lista\n",
    "        for (i,elemento) in enumerate(lista):\n",
    "            if elemento < minimo:\n",
    "               minimo = elemento\n",
    "               indice_minimo = i\n",
    "            \n",
    "               \n",
    "        lista_ordenada.append(minimo)\n",
    "        lista.pop(indice_minimo)\n",
    "        \n",
    "    \n",
    "    return lista_ordenada"
   ]
  },
  {
   "cell_type": "code",
   "execution_count": null,
   "metadata": {},
   "outputs": [],
   "source": [
    "# no entiendo porque se modifica la lista_1 si vive dentro de la funcion\n",
    "\n",
    "lista_ordenada = []\n",
    "lista_1 = [1,3,5,1,32,9,0,-1]\n",
    "minimo = lista_1[0]\n",
    "indice = 0\n",
    "\n",
    "for (i,elemento) in enumerate(lista_1):\n",
    "            if elemento < minimo:\n",
    "               #minimo = elemento\n",
    "               #indice_minimo = i\n",
    "               print(elemento,i)\n",
    "\n",
    "#lista_ordenada.append(minimo)\n",
    "print(lista_ordenada)\n",
    "\n"
   ]
  },
  {
   "cell_type": "markdown",
   "metadata": {},
   "source": [
    "### Algoritmo para transformar valores de temperatura\n",
    "\n",
    "- De grados Celsius a Fahrenheit.\n",
    "\\begin{equation}\n",
    "°F = °C \\times \\frac{9}{5} + 32\n",
    "\\end{equation}\n",
    "- De grados Fahrenheit a Celsius.\n",
    "\\begin{equation}\n",
    "°C = (°F -32) \\times \\frac{5}{9}\n",
    "\\end{equation}"
   ]
  },
  {
   "cell_type": "code",
   "execution_count": 20,
   "metadata": {},
   "outputs": [
    {
     "name": "stdout",
     "output_type": "stream",
     "text": [
      "ingrese f para farenheit o C para celcius\n"
     ]
    },
    {
     "ename": "UnboundLocalError",
     "evalue": "cannot access local variable 'resultado' where it is not associated with a value",
     "output_type": "error",
     "traceback": [
      "\u001b[1;31m---------------------------------------------------------------------------\u001b[0m",
      "\u001b[1;31mUnboundLocalError\u001b[0m                         Traceback (most recent call last)",
      "Cell \u001b[1;32mIn[20], line 20\u001b[0m\n\u001b[0;32m     17\u001b[0m      \u001b[38;5;28mprint\u001b[39m(\u001b[38;5;124m\"\u001b[39m\u001b[38;5;124mingrese f para farenheit o C para celcius\u001b[39m\u001b[38;5;124m\"\u001b[39m)\n\u001b[0;32m     18\u001b[0m      \u001b[38;5;28;01mbreak\u001b[39;00m\n\u001b[1;32m---> 20\u001b[0m respuesta \u001b[38;5;241m=\u001b[39m transformar_temperatura(temperature,escala)\n\u001b[0;32m     22\u001b[0m mensaje \u001b[38;5;241m=\u001b[39m \u001b[38;5;124mf\u001b[39m\u001b[38;5;124m\"\u001b[39m\u001b[38;5;124mla temperatura en grados es \u001b[39m\u001b[38;5;132;01m{\u001b[39;00mrespuesta\u001b[38;5;132;01m}\u001b[39;00m\u001b[38;5;124m\"\u001b[39m\n\u001b[0;32m     24\u001b[0m \u001b[38;5;28mprint\u001b[39m(mensaje)\n",
      "Cell \u001b[1;32mIn[20], line 6\u001b[0m, in \u001b[0;36mtransformar_temperatura\u001b[1;34m(grados, escala)\u001b[0m\n\u001b[0;32m      4\u001b[0m \u001b[38;5;28;01melif\u001b[39;00m escala \u001b[38;5;241m==\u001b[39m \u001b[38;5;124m\"\u001b[39m\u001b[38;5;124mc\u001b[39m\u001b[38;5;124m\"\u001b[39m:\n\u001b[0;32m      5\u001b[0m     resultado \u001b[38;5;241m=\u001b[39m \u001b[38;5;28mround\u001b[39m((\u001b[38;5;28mint\u001b[39m(grados)\u001b[38;5;241m*\u001b[39m\u001b[38;5;241m9\u001b[39m\u001b[38;5;241m/\u001b[39m\u001b[38;5;241m5\u001b[39m) \u001b[38;5;241m+\u001b[39m \u001b[38;5;241m32\u001b[39m,\u001b[38;5;241m2\u001b[39m)\n\u001b[1;32m----> 6\u001b[0m \u001b[38;5;28;01mreturn\u001b[39;00m resultado\n",
      "\u001b[1;31mUnboundLocalError\u001b[0m: cannot access local variable 'resultado' where it is not associated with a value"
     ]
    }
   ],
   "source": [
    "def transformar_temperatura(grados,escala):\n",
    "    if escala == \"f\":\n",
    "        resultado = round((int(grados) -32)*(5/9),2)\n",
    "    elif escala == \"c\":\n",
    "        resultado = round((int(grados)*9/5) + 32,2)\n",
    "    return resultado\n",
    "\n",
    "\n",
    "try:\n",
    "    temperature = int(input(\"ingrese la temperatura: \"))\n",
    "    escala = \" \"\n",
    "\n",
    "    while escala not in (\"f\",\"c\"):\n",
    "        escala = str(input(\"a que escala le gustaria transformar los datos\"+\n",
    "                       \"Farenheit(F) o Celicius(C)\")).lower()\n",
    "        if escala not in (\"f\",\"c\"):\n",
    "         print(\"ingrese f para farenheit o C para celcius\")\n",
    "         break\n",
    "\n",
    "    respuesta = transformar_temperatura(temperature,escala)\n",
    "\n",
    "    mensaje = f\"la temperatura en grados es {respuesta}\"\n",
    "\n",
    "    print(mensaje)\n",
    "\n",
    "except ValueError:\n",
    "    print(\"el valor ingresado no es un numero\")\n",
    "    \n",
    "\n"
   ]
  },
  {
   "cell_type": "code",
   "execution_count": null,
   "metadata": {},
   "outputs": [],
   "source": [
    "def c_f(grados):\n",
    "    #capturo el error de tipo de datos\n",
    "    try type(grados) == int\n",
    "        tipo = input(\"los datos estan en grados celcius (C) o Fahrenheit (F): \")   \n",
    "        if tipo == \"F\":\n",
    "            resultado = round((int(grados) -32)*(5/9),2)\n",
    "        elif tipo == \"C\":\n",
    "            resultado = round((int(grados)*9/5) + 32,2)\n",
    "        else:\n",
    "            return \"no a seleccionado la escala de los datos\"\n",
    "\n",
    "    except TypeError:\n",
    "        print(\"escriba un numero por favor\")\n",
    "    \n",
    "    return resultado\n",
    "    "
   ]
  },
  {
   "cell_type": "markdown",
   "metadata": {},
   "source": [
    "### Count vowels *\n",
    "Ayuda:\n",
    "- Es recomendable usar la funcion **lower()** para obtener el string en minusculas."
   ]
  },
  {
   "cell_type": "code",
   "execution_count": null,
   "metadata": {},
   "outputs": [],
   "source": [
    "def count_vowels(text):\n",
    "    text= text.lower()\n",
    "    return len([x for x in text if x in \"aiou\"])"
   ]
  },
  {
   "cell_type": "markdown",
   "metadata": {},
   "source": [
    "### Isogram \n",
    "\n",
    "An isogram is a word that has no repeated letters.\n",
    "- Create a function if the word entered as a parameter is an isogram."
   ]
  },
  {
   "cell_type": "code",
   "execution_count": null,
   "metadata": {},
   "outputs": [],
   "source": [
    "def isogram(text):\n",
    "    for i in range(len(text)):\n",
    "        letter = text[i]\n",
    "        word = text[i+1::]\n",
    "        if letter in word:\n",
    "           return \"not an isogram\"\n",
    "        else:\n",
    "            continue\n",
    "    return \"is an isogram\"                 \n",
    "\n",
    "#chat gpt propone usar set"
   ]
  },
  {
   "cell_type": "markdown",
   "metadata": {},
   "source": [
    "### Simple Search Algorithm\n",
    "Create a function that receives a list of numbers and the number you are looking for.\n",
    "\n",
    "It must go through the list until:\n",
    "- Find the desired number and return its position.\n",
    "- Reach the end of the list and return -1 (the value is not in the list).\n",
    "---\n",
    "Help:\n",
    "* You can use the function [enumerate](https://docs.python.org/3/library/functions.html?highlight=enumerate#enumerate) to get the index and the value in the for statement.\n",
    "\n",
    "Translated with DeepL.com (free version)"
   ]
  },
  {
   "cell_type": "code",
   "execution_count": null,
   "metadata": {},
   "outputs": [],
   "source": [
    "def research_simple(list,n):\n",
    "    n = int(n)\n",
    "    for (i,item) in enumerate(list):\n",
    "        if n == item:\n",
    "           return f'the number: {item} is in position {i}'\n",
    "    \n",
    "    return \"the value is not in the list\""
   ]
  },
  {
   "cell_type": "code",
   "execution_count": null,
   "metadata": {},
   "outputs": [
    {
     "data": {
      "text/plain": [
       "'the number: 3 is in position 2'"
      ]
     },
     "execution_count": 139,
     "metadata": {},
     "output_type": "execute_result"
    }
   ],
   "source": [
    "prueba = [1, 5, 3, 2, 7]\n",
    "\n",
    "research_simple(prueba,3)"
   ]
  },
  {
   "cell_type": "markdown",
   "metadata": {},
   "source": [
    "#### Try/Except Errors"
   ]
  },
  {
   "cell_type": "code",
   "execution_count": null,
   "metadata": {},
   "outputs": [
    {
     "name": "stdout",
     "output_type": "stream",
     "text": [
      "you can not divide a value with zero\n"
     ]
    }
   ],
   "source": [
    "try:\n",
    "    numero = float(input(\"Ingrese el numero a dividir: \"))\n",
    "    divisor = float(input(\"Ingrese el divisor: \"))\n",
    "    print(numero / divisor)\n",
    "except ZeroDivisionError:\n",
    "    print(\"you can not divide a value with zero\")\n",
    "except ValueError:\n",
    "    print(\"please use a number\")"
   ]
  },
  {
   "cell_type": "code",
   "execution_count": null,
   "metadata": {},
   "outputs": [],
   "source": []
  }
 ],
 "metadata": {
  "kernelspec": {
   "display_name": "base",
   "language": "python",
   "name": "python3"
  },
  "language_info": {
   "codemirror_mode": {
    "name": "ipython",
    "version": 3
   },
   "file_extension": ".py",
   "mimetype": "text/x-python",
   "name": "python",
   "nbconvert_exporter": "python",
   "pygments_lexer": "ipython3",
   "version": "3.11.5"
  }
 },
 "nbformat": 4,
 "nbformat_minor": 2
}
