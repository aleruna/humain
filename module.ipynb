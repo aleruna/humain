{
 "cells": [
  {
   "cell_type": "markdown",
   "metadata": {},
   "source": [
    "### PALINDROME"
   ]
  },
  {
   "cell_type": "code",
   "execution_count": 2,
   "metadata": {},
   "outputs": [],
   "source": [
    "text_1 = \"ana\"\n",
    "text_2 = \"barrilete cosmico\"\n",
    "text_3 = \"yo hago yoga hoy\"\n",
    "text_4 = \"arriba la birra\"\n",
    "text_5 = \"arriba la barra\""
   ]
  },
  {
   "cell_type": "code",
   "execution_count": 3,
   "metadata": {},
   "outputs": [],
   "source": [
    "## option 1\n",
    "def palindrome(text_i):\n",
    "    text = text_i.replace(\" \",\"\")\n",
    "    return \"it is a palindrome\" if text == text[::-1] else \"it is not a palindrome\"\n",
    "\n",
    "## option 2\n",
    "## no termine de entender como funciona reversed!!!\n",
    "def palidrome_2(texto):\n",
    "    texto = texto.replace(\" \",\"\")\n",
    "    return texto == \"\".join(reversed(texto))"
   ]
  },
  {
   "cell_type": "code",
   "execution_count": 19,
   "metadata": {},
   "outputs": [
    {
     "data": {
      "text/plain": [
       "<reversed at 0x2d6dd33f700>"
      ]
     },
     "execution_count": 19,
     "metadata": {},
     "output_type": "execute_result"
    }
   ],
   "source": [
    "prueba = reversed(text_3)\n",
    "\n",
    "#prueba = \"\".join(prueba)\n",
    "\n",
    "prueba"
   ]
  },
  {
   "cell_type": "markdown",
   "metadata": {},
   "source": [
    "### Fibonacci (Recursion)\n",
    "\n",
    "- $F_0 = 0$\n",
    "- $F_1 = 1$\n",
    "- $F_n = F_{n-1} + F_{n-2}$ para $n>1$\n"
   ]
  },
  {
   "cell_type": "code",
   "execution_count": 20,
   "metadata": {},
   "outputs": [],
   "source": [
    "def fibonnacci(n):\n",
    "    if n == 0: ## case\n",
    "        return 0 \n",
    "    if n == 1:\n",
    "        return 1 ## casos de corte, without this we hace a recursion error\n",
    "    else:\n",
    "        return fibonnacci(n-1) + fibonnacci(n-2)\n"
   ]
  },
  {
   "cell_type": "code",
   "execution_count": 24,
   "metadata": {},
   "outputs": [
    {
     "name": "stdout",
     "output_type": "stream",
     "text": [
      "12.9 µs ± 45 ns per loop (mean ± std. dev. of 7 runs, 100,000 loops each)\n"
     ]
    }
   ],
   "source": [
    "[fibonnacci(i) for i in range(10)]\n",
    "\n",
    "%timeit [fibonnacci(i) for i in range(10)] "
   ]
  },
  {
   "cell_type": "code",
   "execution_count": null,
   "metadata": {},
   "outputs": [],
   "source": [
    "### without recursion\n",
    "\n",
    "def fibo(n):\n",
    "    a, b = 0, 1\n",
    "    secuencia = [a, b]\n",
    "    \n",
    "    if n == 0:\n",
    "        return a\n",
    "    elif n == 1:\n",
    "        return b\n",
    "    \n",
    "    n_actual = 2 # número de iteración\n",
    "    while n_actual < n:\n",
    "        n_actual += 1 # sumo 1 a la iteración actual\n",
    "        #a, b = b, a + b # Este truquito es importante! \n",
    "        c = a\n",
    "        a = b\n",
    "        #b = a + b # ya actualizo el nuevo \"a\"\n",
    "        b = c + a\n",
    "        print(b)\n",
    "        secuencia.append(b) # guardo el nuevo b\n",
    "        print(f'esta es la secuencia{secuencia}')\n",
    "    return secuencia"
   ]
  },
  {
   "cell_type": "code",
   "execution_count": null,
   "metadata": {},
   "outputs": [],
   "source": []
  }
 ],
 "metadata": {
  "kernelspec": {
   "display_name": "base",
   "language": "python",
   "name": "python3"
  },
  "language_info": {
   "codemirror_mode": {
    "name": "ipython",
    "version": 3
   },
   "file_extension": ".py",
   "mimetype": "text/x-python",
   "name": "python",
   "nbconvert_exporter": "python",
   "pygments_lexer": "ipython3",
   "version": "3.11.4"
  }
 },
 "nbformat": 4,
 "nbformat_minor": 2
}
